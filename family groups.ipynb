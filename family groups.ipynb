{
 "cells": [
  {
   "cell_type": "code",
   "execution_count": 1,
   "metadata": {},
   "outputs": [
    {
     "data": {
      "text/html": [
       "<div>\n",
       "<style scoped>\n",
       "    .dataframe tbody tr th:only-of-type {\n",
       "        vertical-align: middle;\n",
       "    }\n",
       "\n",
       "    .dataframe tbody tr th {\n",
       "        vertical-align: top;\n",
       "    }\n",
       "\n",
       "    .dataframe thead th {\n",
       "        text-align: right;\n",
       "    }\n",
       "</style>\n",
       "<table border=\"1\" class=\"dataframe\">\n",
       "  <thead>\n",
       "    <tr style=\"text-align: right;\">\n",
       "      <th></th>\n",
       "      <th>name</th>\n",
       "      <th>rank</th>\n",
       "      <th>count</th>\n",
       "      <th>prop100k</th>\n",
       "      <th>cum_prop100k</th>\n",
       "      <th>pctwhite</th>\n",
       "      <th>pctblack</th>\n",
       "      <th>pctapi</th>\n",
       "      <th>pctaian</th>\n",
       "      <th>pct2prace</th>\n",
       "      <th>pcthispanic</th>\n",
       "    </tr>\n",
       "  </thead>\n",
       "  <tbody>\n",
       "    <tr>\n",
       "      <th>0</th>\n",
       "      <td>SMITH</td>\n",
       "      <td>1</td>\n",
       "      <td>2442977</td>\n",
       "      <td>828.19</td>\n",
       "      <td>828.19</td>\n",
       "      <td>70.9</td>\n",
       "      <td>23.11</td>\n",
       "      <td>0.5</td>\n",
       "      <td>0.89</td>\n",
       "      <td>2.19</td>\n",
       "      <td>2.4</td>\n",
       "    </tr>\n",
       "    <tr>\n",
       "      <th>1</th>\n",
       "      <td>JOHNSON</td>\n",
       "      <td>2</td>\n",
       "      <td>1932812</td>\n",
       "      <td>655.24</td>\n",
       "      <td>1483.42</td>\n",
       "      <td>58.97</td>\n",
       "      <td>34.63</td>\n",
       "      <td>0.54</td>\n",
       "      <td>0.94</td>\n",
       "      <td>2.56</td>\n",
       "      <td>2.36</td>\n",
       "    </tr>\n",
       "    <tr>\n",
       "      <th>2</th>\n",
       "      <td>WILLIAMS</td>\n",
       "      <td>3</td>\n",
       "      <td>1625252</td>\n",
       "      <td>550.97</td>\n",
       "      <td>2034.39</td>\n",
       "      <td>45.75</td>\n",
       "      <td>47.68</td>\n",
       "      <td>0.46</td>\n",
       "      <td>0.82</td>\n",
       "      <td>2.81</td>\n",
       "      <td>2.49</td>\n",
       "    </tr>\n",
       "    <tr>\n",
       "      <th>3</th>\n",
       "      <td>BROWN</td>\n",
       "      <td>4</td>\n",
       "      <td>1437026</td>\n",
       "      <td>487.16</td>\n",
       "      <td>2521.56</td>\n",
       "      <td>57.95</td>\n",
       "      <td>35.6</td>\n",
       "      <td>0.51</td>\n",
       "      <td>0.87</td>\n",
       "      <td>2.55</td>\n",
       "      <td>2.52</td>\n",
       "    </tr>\n",
       "    <tr>\n",
       "      <th>4</th>\n",
       "      <td>JONES</td>\n",
       "      <td>5</td>\n",
       "      <td>1425470</td>\n",
       "      <td>483.24</td>\n",
       "      <td>3004.80</td>\n",
       "      <td>55.19</td>\n",
       "      <td>38.48</td>\n",
       "      <td>0.44</td>\n",
       "      <td>1</td>\n",
       "      <td>2.61</td>\n",
       "      <td>2.29</td>\n",
       "    </tr>\n",
       "  </tbody>\n",
       "</table>\n",
       "</div>"
      ],
      "text/plain": [
       "       name  rank    count  prop100k  cum_prop100k pctwhite pctblack pctapi  \\\n",
       "0     SMITH     1  2442977    828.19        828.19     70.9    23.11    0.5   \n",
       "1   JOHNSON     2  1932812    655.24       1483.42    58.97    34.63   0.54   \n",
       "2  WILLIAMS     3  1625252    550.97       2034.39    45.75    47.68   0.46   \n",
       "3     BROWN     4  1437026    487.16       2521.56    57.95     35.6   0.51   \n",
       "4     JONES     5  1425470    483.24       3004.80    55.19    38.48   0.44   \n",
       "\n",
       "  pctaian pct2prace pcthispanic  \n",
       "0    0.89      2.19         2.4  \n",
       "1    0.94      2.56        2.36  \n",
       "2    0.82      2.81        2.49  \n",
       "3    0.87      2.55        2.52  \n",
       "4       1      2.61        2.29  "
      ]
     },
     "execution_count": 1,
     "metadata": {},
     "output_type": "execute_result"
    }
   ],
   "source": [
    "import pandas as pd\n",
    "from matplotlib import pyplot as plt\n",
    "import seaborn as sns\n",
    "\n",
    "names = pd.read_csv('./Names_2010Census.csv')\n",
    "names.head()"
   ]
  },
  {
   "cell_type": "code",
   "execution_count": 2,
   "metadata": {},
   "outputs": [],
   "source": [
    "dist = names.groupby(names['name'].str.get(0))['name'].count()\n",
    "dist_map= dist.to_dict()"
   ]
  },
  {
   "cell_type": "code",
   "execution_count": 3,
   "metadata": {},
   "outputs": [
    {
     "data": {
      "text/plain": [
       "<BarContainer object of 26 artists>"
      ]
     },
     "execution_count": 3,
     "metadata": {},
     "output_type": "execute_result"
    },
    {
     "data": {
      "image/png": "[encoded data removed]",
      "text/plain": [
       "<Figure size 432x288 with 1 Axes>"
      ]
     },
     "metadata": {
      "needs_background": "light"
     },
     "output_type": "display_data"
    }
   ],
   "source": [
    "plt.bar(dist_map.keys(), dist_map.values())"
   ]
  },
  {
   "cell_type": "code",
   "execution_count": 4,
   "metadata": {},
   "outputs": [],
   "source": [
    "# probability that a randomly selected name begins with the given char"
   ]
  },
  {
   "cell_type": "code",
   "execution_count": 5,
   "metadata": {},
   "outputs": [],
   "source": [
    "prob_map = {k: 100* round((v / sum(dist)), 2) for k, v in dist.items()}"
   ]
  },
  {
   "cell_type": "code",
   "execution_count": 6,
   "metadata": {},
   "outputs": [
    {
     "data": {
      "text/plain": [
       "{'A': 4.0,\n",
       " 'B': 9.0,\n",
       " 'C': 6.0,\n",
       " 'D': 6.0,\n",
       " 'E': 2.0,\n",
       " 'F': 4.0,\n",
       " 'G': 5.0,\n",
       " 'H': 5.0,\n",
       " 'I': 1.0,\n",
       " 'J': 1.0,\n",
       " 'K': 6.0,\n",
       " 'L': 5.0,\n",
       " 'M': 8.0,\n",
       " 'N': 2.0,\n",
       " 'O': 2.0,\n",
       " 'P': 5.0,\n",
       " 'Q': 0.0,\n",
       " 'R': 5.0,\n",
       " 'S': 11.0,\n",
       " 'T': 4.0,\n",
       " 'U': 1.0,\n",
       " 'V': 3.0,\n",
       " 'W': 3.0,\n",
       " 'X': 0.0,\n",
       " 'Y': 1.0,\n",
       " 'Z': 1.0}"
      ]
     },
     "execution_count": 6,
     "metadata": {},
     "output_type": "execute_result"
    }
   ],
   "source": [
    "prob_map"
   ]
  },
  {
   "cell_type": "code",
   "execution_count": 7,
   "metadata": {},
   "outputs": [],
   "source": [
    "def get_cutoff(prob_map):\n",
    "    # just cutoff when the probability from the first\n",
    "    # subset surpasses 50; we're looking for two groups\n",
    "    cumulative = 0\n",
    "    for char in 'ABCDEFGHIJKLMNOPQRSTUVWXYZ':\n",
    "        cumulative += prob_map.get(char)\n",
    "        if cumulative > 50: break\n",
    "    print(f'cumulative probability is {cumulative} for group up to letter {char}')\n",
    "    return char"
   ]
  },
  {
   "cell_type": "code",
   "execution_count": 8,
   "metadata": {},
   "outputs": [
    {
     "name": "stdout",
     "output_type": "stream",
     "text": [
      "cumulative probability is 54.0 for group up to letter L\n"
     ]
    },
    {
     "data": {
      "text/plain": [
       "'L'"
      ]
     },
     "execution_count": 8,
     "metadata": {},
     "output_type": "execute_result"
    }
   ],
   "source": [
    "get_cutoff(prob_map)"
   ]
  },
  {
   "cell_type": "code",
   "execution_count": 9,
   "metadata": {},
   "outputs": [],
   "source": [
    "def get_cutoff_for_n_groups(prob_map, n_groups):\n",
    "    cumulative = 0\n",
    "    target_prob = 100 / n_groups\n",
    "    dist_map = { group: [] for group in range(n_groups) }\n",
    "    i = 0\n",
    "    current_group = dist_map[i]\n",
    "\n",
    "    for char in 'ABCDEFGHIJKLMNOPQRSTUVWXYZ':\n",
    "        dist_map[i].append(char)\n",
    "        cumulative += prob_map.get(char)\n",
    "        if cumulative > target_prob:\n",
    "            i += 1\n",
    "            current_group = dist_map[i]\n",
    "            print(f'cumulative probability is {cumulative} for group up to letter {char}')\n",
    "            cumulative = 0\n",
    "\n",
    "    return dist_map"
   ]
  },
  {
   "cell_type": "code",
   "execution_count": 10,
   "metadata": {},
   "outputs": [
    {
     "name": "stdout",
     "output_type": "stream",
     "text": [
      "cumulative probability is 54.0 for group up to letter L\n"
     ]
    },
    {
     "data": {
      "text/plain": [
       "{0: ['A', 'B', 'C', 'D', 'E', 'F', 'G', 'H', 'I', 'J', 'K', 'L'],\n",
       " 1: ['M', 'N', 'O', 'P', 'Q', 'R', 'S', 'T', 'U', 'V', 'W', 'X', 'Y', 'Z']}"
      ]
     },
     "execution_count": 10,
     "metadata": {},
     "output_type": "execute_result"
    }
   ],
   "source": [
    "# for two services\n",
    "get_cutoff_for_n_groups(prob_map, 2)"
   ]
  },
  {
   "cell_type": "code",
   "execution_count": 11,
   "metadata": {},
   "outputs": [
    {
     "name": "stdout",
     "output_type": "stream",
     "text": [
      "cumulative probability is 36.0 for group up to letter G\n",
      "cumulative probability is 35.0 for group up to letter P\n"
     ]
    },
    {
     "data": {
      "text/plain": [
       "{0: ['A', 'B', 'C', 'D', 'E', 'F', 'G'],\n",
       " 1: ['H', 'I', 'J', 'K', 'L', 'M', 'N', 'O', 'P'],\n",
       " 2: ['Q', 'R', 'S', 'T', 'U', 'V', 'W', 'X', 'Y', 'Z']}"
      ]
     },
     "execution_count": 11,
     "metadata": {},
     "output_type": "execute_result"
    }
   ],
   "source": [
    "# for three services\n",
    "get_cutoff_for_n_groups(prob_map, 3)"
   ]
  },
  {
   "cell_type": "code",
   "execution_count": 12,
   "metadata": {},
   "outputs": [
    {
     "name": "stdout",
     "output_type": "stream",
     "text": [
      "cumulative probability is 19.0 for group up to letter C\n",
      "cumulative probability is 17.0 for group up to letter G\n",
      "cumulative probability is 18.0 for group up to letter L\n",
      "cumulative probability is 17.0 for group up to letter P\n",
      "cumulative probability is 20.0 for group up to letter T\n"
     ]
    },
    {
     "data": {
      "text/plain": [
       "{0: ['A', 'B', 'C'],\n",
       " 1: ['D', 'E', 'F', 'G'],\n",
       " 2: ['H', 'I', 'J', 'K', 'L'],\n",
       " 3: ['M', 'N', 'O', 'P'],\n",
       " 4: ['Q', 'R', 'S', 'T'],\n",
       " 5: ['U', 'V', 'W', 'X', 'Y', 'Z']}"
      ]
     },
     "execution_count": 12,
     "metadata": {},
     "output_type": "execute_result"
    }
   ],
   "source": [
    "# for six services\n",
    "get_cutoff_for_n_groups(prob_map, 6)"
   ]
  },
  {
   "cell_type": "code",
   "execution_count": null,
   "metadata": {},
   "outputs": [],
   "source": []
  }
 ],
 "metadata": {
  "kernelspec": {
   "display_name": "Python 3",
   "language": "python",
   "name": "python3"
  },
  "language_info": {
   "codemirror_mode": {
    "name": "ipython",
    "version": 3
   },
   "file_extension": ".py",
   "mimetype": "text/x-python",
   "name": "python",
   "nbconvert_exporter": "python",
   "pygments_lexer": "ipython3",
   "version": "3.7.4"
  }
 },
 "nbformat": 4,
 "nbformat_minor": 2
}
